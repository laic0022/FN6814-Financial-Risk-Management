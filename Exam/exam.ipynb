{
 "cells": [
  {
   "cell_type": "code",
   "execution_count": 1,
   "metadata": {},
   "outputs": [
    {
     "data": {
      "text/plain": [
       "(1.51507525062625, 1.51507525062625, 0)"
      ]
     },
     "execution_count": 1,
     "metadata": {},
     "output_type": "execute_result"
    }
   ],
   "source": [
    "from sympy import symbols, exp\n",
    "\n",
    "# Given values\n",
    "S0 = 1.5  # initial FX spot price\n",
    "rd = 0.03  # domestic risk-free rate (US)\n",
    "rf = 0.02  # foreign risk-free rate (UK)\n",
    "sigma = 0.15  # volatility\n",
    "t = 1  # time in years for EFV\n",
    "N = 100e6  # Notional in domestic currency (GBP)\n",
    "\n",
    "# Calculate the forward rate F0 using the formula F0 = S0 * exp((rd - rf) * t)\n",
    "F0 = S0 * exp((rd - rf) * t)\n",
    "\n",
    "# Now we calculate the expected value of the mtm(t) using the moment generating function:\n",
    "# E[exp(x)] = exp(mu + 1/2 * sigma^2) for x ~ N(mu, sigma^2)\n",
    "# Since we want the expectation of S(t), we replace x with (rd - rf) * t - 1/2 * sigma^2 * t + sigma * W(t)\n",
    "# and W(t) ~ N(0, t) we get mu as (rd - rf) * t - 1/2 * sigma^2 * t and variance as sigma^2 * t\n",
    "\n",
    "mu = (rd - rf) * t - (1/2) * sigma**2 * t\n",
    "variance = sigma**2 * t\n",
    "\n",
    "# The expected value of S(t) using the moment generating function\n",
    "E_St = S0 * exp(mu + 1/2 * variance)\n",
    "\n",
    "# Now we calculate the expected future value (EFV) at t=1 year\n",
    "EFV = N * (E_St - F0)\n",
    "\n",
    "F0, E_St, EFV.evalf()  # Evaluate to get numeric values\n"
   ]
  },
  {
   "cell_type": "code",
   "execution_count": 2,
   "metadata": {},
   "outputs": [
    {
     "data": {
      "text/plain": [
       "(7500.0, -2475.247524752398)"
      ]
     },
     "execution_count": 2,
     "metadata": {},
     "output_type": "execute_result"
    }
   ],
   "source": [
    "# Given values\n",
    "notional_amount_jpy = 100_000_000  # 100m JPY\n",
    "forward_rate_jpy = 0.015  # 1.5%\n",
    "forward_rate_usd = 0.02  # 2%\n",
    "discount_rate_jpy = 0.01  # 1%\n",
    "discount_rate_usd = 0.02  # 2%\n",
    "fx_spot_rate = 100  # 1 USD = 100 JPY\n",
    "half_year = 0.5  # 6 months in terms of year\n",
    "\n",
    "# Calculating the JPY coupon payment (not discounted because the curve is flat)\n",
    "jpy_coupon_payment = notional_amount_jpy * forward_rate_jpy * half_year\n",
    "\n",
    "# Converting JPY coupon payment to USD\n",
    "jpy_coupon_payment_usd = jpy_coupon_payment / fx_spot_rate\n",
    "\n",
    "# Calculate the adjusted notional for USD leg after reset, using the interest rate parity concept\n",
    "# Since this is a resettable swap, the notional will be adjusted to the new FX rate\n",
    "# Assuming that the forward rate is indicative of the expected future spot rate\n",
    "# The expected future FX spot rate can be calculated using the interest rate differential between USD and JPY\n",
    "expected_future_fx_rate = fx_spot_rate * (1 + forward_rate_usd * half_year) / (1 + forward_rate_jpy * half_year)\n",
    "\n",
    "# Adjusting the notional amount of the USD leg according to the expected future FX rate\n",
    "adjusted_notional_usd = notional_amount_jpy / expected_future_fx_rate\n",
    "\n",
    "# Calculate the difference in notional due to reset\n",
    "resettable_notional_difference_usd = adjusted_notional_usd - (notional_amount_jpy / fx_spot_rate)\n",
    "\n",
    "# Since we are only interested in the amount of the next payment in USD, we show the JPY coupon payment in USD\n",
    "# And the resettable notional difference (which would be paid by the party paying the USD leg if positive)\n",
    "jpy_coupon_payment_usd, resettable_notional_difference_usd\n"
   ]
  },
  {
   "cell_type": "code",
   "execution_count": 3,
   "metadata": {},
   "outputs": [
    {
     "data": {
      "text/plain": [
       "750000.0"
      ]
     },
     "execution_count": 3,
     "metadata": {},
     "output_type": "execute_result"
    }
   ],
   "source": [
    "jpy_coupon_payment"
   ]
  },
  {
   "cell_type": "code",
   "execution_count": 4,
   "metadata": {},
   "outputs": [
    {
     "data": {
      "text/plain": [
       "7500.0"
      ]
     },
     "execution_count": 4,
     "metadata": {},
     "output_type": "execute_result"
    }
   ],
   "source": [
    "jpy_coupon_payment_usd"
   ]
  },
  {
   "cell_type": "code",
   "execution_count": 5,
   "metadata": {},
   "outputs": [
    {
     "data": {
      "text/plain": [
       "100.24813895781637"
      ]
     },
     "execution_count": 5,
     "metadata": {},
     "output_type": "execute_result"
    }
   ],
   "source": [
    "expected_future_fx_rate"
   ]
  },
  {
   "cell_type": "code",
   "execution_count": 7,
   "metadata": {},
   "outputs": [],
   "source": [
    "import numpy as np"
   ]
  },
  {
   "cell_type": "code",
   "execution_count": 8,
   "metadata": {},
   "outputs": [
    {
     "data": {
      "text/plain": [
       "99.50124791926824"
      ]
     },
     "execution_count": 8,
     "metadata": {},
     "output_type": "execute_result"
    }
   ],
   "source": [
    "fx_spot_rate * np.exp((discount_rate_jpy-discount_rate_usd)*0.5)"
   ]
  },
  {
   "cell_type": "code",
   "execution_count": 10,
   "metadata": {},
   "outputs": [
    {
     "data": {
      "text/plain": [
       "-2475.247524752398"
      ]
     },
     "execution_count": 10,
     "metadata": {},
     "output_type": "execute_result"
    }
   ],
   "source": [
    "resettable_notional_difference_usd"
   ]
  },
  {
   "cell_type": "code",
   "execution_count": null,
   "metadata": {},
   "outputs": [],
   "source": []
  }
 ],
 "metadata": {
  "kernelspec": {
   "display_name": "FN6814",
   "language": "python",
   "name": "python3"
  },
  "language_info": {
   "codemirror_mode": {
    "name": "ipython",
    "version": 3
   },
   "file_extension": ".py",
   "mimetype": "text/x-python",
   "name": "python",
   "nbconvert_exporter": "python",
   "pygments_lexer": "ipython3",
   "version": "3.11.8"
  }
 },
 "nbformat": 4,
 "nbformat_minor": 2
}
